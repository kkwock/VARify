{
 "cells": [
  {
   "cell_type": "markdown",
   "id": "1106b087",
   "metadata": {},
   "source": [
    "# Scratch \n",
    "\n",
    "---\n",
    "\n",
    "## Workflow\n",
    "<img src=\"wf.png\" width=\"600\">"
   ]
  },
  {
   "cell_type": "markdown",
   "id": "4b3680f4",
   "metadata": {},
   "source": [
    "## Exploring Data"
   ]
  },
  {
   "cell_type": "code",
   "execution_count": 19,
   "id": "70705ac3",
   "metadata": {},
   "outputs": [],
   "source": [
    "import pandas as pd\n",
    "\n",
    "# mpileup \n",
    "mp = pd.read_table('../data/test/mpiletest-out.txt', header=None)\n",
    "mp = mp.rename(columns={1:\"snp_pos\", 4:\"pileup\"})\n",
    "\n",
    "# custom out file\n",
    "cf = pd.read_table('../data/test/snp_out.txt')"
   ]
  },
  {
   "cell_type": "markdown",
   "id": "26ef5f9d",
   "metadata": {},
   "source": [
    "## Merging the two dataframes together"
   ]
  },
  {
   "cell_type": "code",
   "execution_count": 2,
   "id": "98f81b15",
   "metadata": {},
   "outputs": [
    {
     "data": {
      "text/html": [
       "<div>\n",
       "<style scoped>\n",
       "    .dataframe tbody tr th:only-of-type {\n",
       "        vertical-align: middle;\n",
       "    }\n",
       "\n",
       "    .dataframe tbody tr th {\n",
       "        vertical-align: top;\n",
       "    }\n",
       "\n",
       "    .dataframe thead th {\n",
       "        text-align: right;\n",
       "    }\n",
       "</style>\n",
       "<table border=\"1\" class=\"dataframe\">\n",
       "  <thead>\n",
       "    <tr style=\"text-align: right;\">\n",
       "      <th></th>\n",
       "      <th>chr_id</th>\n",
       "      <th>snp_pos</th>\n",
       "      <th>ref_allele</th>\n",
       "      <th>alt_allele</th>\n",
       "      <th>gene_id</th>\n",
       "      <th>mrna_id</th>\n",
       "      <th>prot_id</th>\n",
       "      <th>strand</th>\n",
       "      <th>effect</th>\n",
       "      <th>snp_cds_pos</th>\n",
       "      <th>codon1_genome_pos</th>\n",
       "      <th>codon2_genome_pos</th>\n",
       "      <th>codon3_genome_pos</th>\n",
       "      <th>snp_aa_pos</th>\n",
       "      <th>ref_codon</th>\n",
       "      <th>alt_codon</th>\n",
       "      <th>ref_aa</th>\n",
       "      <th>alt_aa</th>\n",
       "      <th>pileup</th>\n",
       "    </tr>\n",
       "  </thead>\n",
       "  <tbody>\n",
       "    <tr>\n",
       "      <th>0</th>\n",
       "      <td>chr1</td>\n",
       "      <td>523</td>\n",
       "      <td>A</td>\n",
       "      <td>T</td>\n",
       "      <td>seq1</td>\n",
       "      <td>seq1.1</td>\n",
       "      <td>seq1.1</td>\n",
       "      <td>+</td>\n",
       "      <td>synonymous</td>\n",
       "      <td>267</td>\n",
       "      <td>521</td>\n",
       "      <td>522</td>\n",
       "      <td>523</td>\n",
       "      <td>89</td>\n",
       "      <td>GTA</td>\n",
       "      <td>GTT</td>\n",
       "      <td>E</td>\n",
       "      <td>E</td>\n",
       "      <td>tTTTTTTTTTTTtTTtTTtTtTttT</td>\n",
       "    </tr>\n",
       "  </tbody>\n",
       "</table>\n",
       "</div>"
      ],
      "text/plain": [
       "  chr_id  snp_pos ref_allele alt_allele gene_id mrna_id prot_id strand  \\\n",
       "0   chr1      523          A          T    seq1  seq1.1  seq1.1      +   \n",
       "\n",
       "       effect  snp_cds_pos  codon1_genome_pos  codon2_genome_pos  \\\n",
       "0  synonymous          267                521                522   \n",
       "\n",
       "   codon3_genome_pos  snp_aa_pos ref_codon alt_codon ref_aa alt_aa  \\\n",
       "0                523          89       GTA       GTT      E      E   \n",
       "\n",
       "                      pileup  \n",
       "0  tTTTTTTTTTTTtTTtTTtTtTttT  "
      ]
     },
     "execution_count": 2,
     "metadata": {},
     "output_type": "execute_result"
    }
   ],
   "source": [
    "sub_mp = mp[['snp_pos','pileup']]\n",
    "pd.merge(cf, sub_mp, on='snp_pos')"
   ]
  },
  {
   "cell_type": "markdown",
   "id": "167a8749",
   "metadata": {},
   "source": [
    "## Condensed Dataframe"
   ]
  },
  {
   "cell_type": "code",
   "execution_count": 3,
   "id": "ee7d1684",
   "metadata": {},
   "outputs": [
    {
     "data": {
      "text/html": [
       "<div>\n",
       "<style scoped>\n",
       "    .dataframe tbody tr th:only-of-type {\n",
       "        vertical-align: middle;\n",
       "    }\n",
       "\n",
       "    .dataframe tbody tr th {\n",
       "        vertical-align: top;\n",
       "    }\n",
       "\n",
       "    .dataframe thead th {\n",
       "        text-align: right;\n",
       "    }\n",
       "</style>\n",
       "<table border=\"1\" class=\"dataframe\">\n",
       "  <thead>\n",
       "    <tr style=\"text-align: right;\">\n",
       "      <th></th>\n",
       "      <th>chr_id</th>\n",
       "      <th>snp_pos</th>\n",
       "      <th>ref_allele</th>\n",
       "      <th>alt_allele</th>\n",
       "      <th>gene_id</th>\n",
       "      <th>strand</th>\n",
       "      <th>effect</th>\n",
       "      <th>pileup</th>\n",
       "    </tr>\n",
       "  </thead>\n",
       "  <tbody>\n",
       "    <tr>\n",
       "      <th>0</th>\n",
       "      <td>chr1</td>\n",
       "      <td>523</td>\n",
       "      <td>A</td>\n",
       "      <td>T</td>\n",
       "      <td>seq1</td>\n",
       "      <td>+</td>\n",
       "      <td>synonymous</td>\n",
       "      <td>tTTTTTTTTTTTtTTtTTtTtTttT</td>\n",
       "    </tr>\n",
       "  </tbody>\n",
       "</table>\n",
       "</div>"
      ],
      "text/plain": [
       "  chr_id  snp_pos ref_allele alt_allele gene_id strand      effect  \\\n",
       "0   chr1      523          A          T    seq1      +  synonymous   \n",
       "\n",
       "                      pileup  \n",
       "0  tTTTTTTTTTTTtTTtTTtTtTttT  "
      ]
     },
     "execution_count": 3,
     "metadata": {},
     "output_type": "execute_result"
    }
   ],
   "source": [
    "#subset of cf\n",
    "sub_cf = cf[['chr_id','snp_pos','ref_allele','alt_allele','gene_id','strand','effect']]\n",
    "\n",
    "merged_var = pd.merge(sub_cf, sub_mp, on='snp_pos')\n",
    "merged_var"
   ]
  },
  {
   "cell_type": "markdown",
   "id": "78742d03",
   "metadata": {},
   "source": [
    "## Building class object\n",
    "\n",
    "### To Do\n",
    "* [x] output comparison\n",
    "* [ ] Type Effect\n",
    "* [ ] Make into Function\n",
    "* [ ] Build larger test data\n",
    "* [ ] Nextflow with Assembly/Sam to mpileup\n",
    "\n",
    "\n",
    "### Notes\n",
    "**Test Data:**\n",
    "* Take processed mRNA transcript (FASTA) —> VCF w/ 2-3 SNPS\n",
    "\n",
    "**Process:** \n",
    "* RNA FASTA -align to genome using gmap->SAM/BAM—>BAM -variantcalling-> VCF —> Capture Variants\n",
    "* DNA FASTA -align to genome using gmap->SAM/BAM—>BAM -variantcalling-> VCF —> Capture Variants |—> Compare RV and GV"
   ]
  },
  {
   "cell_type": "code",
   "execution_count": 10,
   "id": "6d57d465",
   "metadata": {},
   "outputs": [],
   "source": [
    "# majority snp\n",
    "# class VARify():\n",
    "def split(word):\n",
    "    return list(word)\n",
    "\n",
    "def majorSNP(merged_var):\n",
    "    n=0\n",
    "    arr = split(merged_var['pileup'][n])\n",
    "    \n",
    "    snps = pd.Series(arr).drop_duplicates().tolist()\n",
    "    \n",
    "    count = dict.fromkeys(snps, 0)\n",
    "\n",
    "    for snp_key in snps:\n",
    "        for arr_key in arr: \n",
    "            if snp_key == arr_key: \n",
    "                count[snp_key] = count.get(snp_key, 0) + 1\n",
    "                \n",
    "    top_snp = sorted(count)[0]\n",
    "    return top_snp\n",
    "\n",
    "# strand\n",
    "def strand(x):\n",
    "    pos = ['A','C','T','G', 'N']\n",
    "    rev = ['a','c','t','g', 'n']\n",
    "    if x in pos:\n",
    "        return '+'\n",
    "    if x in rev:\n",
    "        return '-'\n",
    "    \n",
    "# type effect"
   ]
  },
  {
   "cell_type": "code",
   "execution_count": 11,
   "id": "e34c8c5d",
   "metadata": {},
   "outputs": [],
   "source": [
    "top_snp = majorSNP(merged_var)\n",
    "top_strand = strand(top_snp)"
   ]
  },
  {
   "cell_type": "code",
   "execution_count": 18,
   "id": "68303b98",
   "metadata": {},
   "outputs": [
    {
     "data": {
      "text/html": [
       "<div>\n",
       "<style scoped>\n",
       "    .dataframe tbody tr th:only-of-type {\n",
       "        vertical-align: middle;\n",
       "    }\n",
       "\n",
       "    .dataframe tbody tr th {\n",
       "        vertical-align: top;\n",
       "    }\n",
       "\n",
       "    .dataframe thead th {\n",
       "        text-align: right;\n",
       "    }\n",
       "</style>\n",
       "<table border=\"1\" class=\"dataframe\">\n",
       "  <thead>\n",
       "    <tr style=\"text-align: right;\">\n",
       "      <th></th>\n",
       "      <th>chr_id</th>\n",
       "      <th>snp_pos</th>\n",
       "      <th>ref_allele</th>\n",
       "      <th>alt_allele</th>\n",
       "      <th>gene_id</th>\n",
       "      <th>strand</th>\n",
       "      <th>effect</th>\n",
       "      <th>confirmed_snp</th>\n",
       "      <th>confirmed_strand</th>\n",
       "    </tr>\n",
       "  </thead>\n",
       "  <tbody>\n",
       "    <tr>\n",
       "      <th>0</th>\n",
       "      <td>chr1</td>\n",
       "      <td>523</td>\n",
       "      <td>A</td>\n",
       "      <td>T</td>\n",
       "      <td>seq1</td>\n",
       "      <td>+</td>\n",
       "      <td>synonymous</td>\n",
       "      <td>T</td>\n",
       "      <td>+</td>\n",
       "    </tr>\n",
       "  </tbody>\n",
       "</table>\n",
       "</div>"
      ],
      "text/plain": [
       "  chr_id  snp_pos ref_allele alt_allele gene_id strand      effect  \\\n",
       "0   chr1      523          A          T    seq1      +  synonymous   \n",
       "\n",
       "  confirmed_snp confirmed_strand  \n",
       "0             T                +  "
      ]
     },
     "execution_count": 18,
     "metadata": {},
     "output_type": "execute_result"
    }
   ],
   "source": [
    "snp_dict = {'confirmed_snp' : top_snp, 'confirmed_strand' : strand}\n",
    "merged_var['confirmed_snp'] = top_snp\n",
    "merged_var['confirmed_strand'] = top_strand\n",
    "\n",
    "# proposed final output\n",
    "merged_var.drop(columns='pileup')"
   ]
  },
  {
   "cell_type": "markdown",
   "id": "c5c54fd9",
   "metadata": {},
   "source": [
    "---\n",
    "\n",
    "# Data\n",
    "\n",
    "Real Data: https://ftp-trace.ncbi.nlm.nih.gov/ReferenceSamples/seqc/Somatic_Mutation_WG/"
   ]
  }
 ],
 "metadata": {
  "kernelspec": {
   "display_name": "Python 3 (ipykernel)",
   "language": "python",
   "name": "python3"
  },
  "language_info": {
   "codemirror_mode": {
    "name": "ipython",
    "version": 3
   },
   "file_extension": ".py",
   "mimetype": "text/x-python",
   "name": "python",
   "nbconvert_exporter": "python",
   "pygments_lexer": "ipython3",
   "version": "3.9.5"
  },
  "latex_envs": {
   "LaTeX_envs_menu_present": true,
   "autoclose": false,
   "autocomplete": true,
   "bibliofile": "biblio.bib",
   "cite_by": "apalike",
   "current_citInitial": 1,
   "eqLabelWithNumbers": true,
   "eqNumInitial": 1,
   "hotkeys": {
    "equation": "Ctrl-E",
    "itemize": "Ctrl-I"
   },
   "labels_anchors": false,
   "latex_user_defs": false,
   "report_style_numbering": false,
   "user_envs_cfg": false
  }
 },
 "nbformat": 4,
 "nbformat_minor": 5
}
