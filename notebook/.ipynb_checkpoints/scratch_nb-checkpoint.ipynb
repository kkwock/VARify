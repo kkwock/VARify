{
 "cells": [
  {
   "cell_type": "markdown",
   "id": "1106b087",
   "metadata": {},
   "source": [
    "# Scratch "
   ]
  },
  {
   "cell_type": "code",
   "execution_count": 1,
   "id": "70705ac3",
   "metadata": {},
   "outputs": [],
   "source": [
    "import pandas as pd\n",
    "\n",
    "# mpileup \n",
    "mp = pd.read_table('../data/test/mpiletest-out.txt', header=None)\n",
    "\n",
    "# custom file\n",
    "cf = pd.read_table('../data/test/snp_out.txt')"
   ]
  },
  {
   "cell_type": "code",
   "execution_count": 53,
   "id": "5d914983",
   "metadata": {},
   "outputs": [],
   "source": [
    "mp = mp.rename(columns={1:\"snp_pos\", 4:\"pileup\"})"
   ]
  },
  {
   "cell_type": "code",
   "execution_count": 63,
   "id": "98f81b15",
   "metadata": {},
   "outputs": [
    {
     "data": {
      "text/html": [
       "<div>\n",
       "<style scoped>\n",
       "    .dataframe tbody tr th:only-of-type {\n",
       "        vertical-align: middle;\n",
       "    }\n",
       "\n",
       "    .dataframe tbody tr th {\n",
       "        vertical-align: top;\n",
       "    }\n",
       "\n",
       "    .dataframe thead th {\n",
       "        text-align: right;\n",
       "    }\n",
       "</style>\n",
       "<table border=\"1\" class=\"dataframe\">\n",
       "  <thead>\n",
       "    <tr style=\"text-align: right;\">\n",
       "      <th></th>\n",
       "      <th>chr_id</th>\n",
       "      <th>snp_pos</th>\n",
       "      <th>ref_allele</th>\n",
       "      <th>alt_allele</th>\n",
       "      <th>gene_id</th>\n",
       "      <th>mrna_id</th>\n",
       "      <th>prot_id</th>\n",
       "      <th>strand</th>\n",
       "      <th>effect</th>\n",
       "      <th>snp_cds_pos</th>\n",
       "      <th>codon1_genome_pos</th>\n",
       "      <th>codon2_genome_pos</th>\n",
       "      <th>codon3_genome_pos</th>\n",
       "      <th>snp_aa_pos</th>\n",
       "      <th>ref_codon</th>\n",
       "      <th>alt_codon</th>\n",
       "      <th>ref_aa</th>\n",
       "      <th>alt_aa</th>\n",
       "      <th>pileup</th>\n",
       "    </tr>\n",
       "  </thead>\n",
       "  <tbody>\n",
       "    <tr>\n",
       "      <th>0</th>\n",
       "      <td>chr1</td>\n",
       "      <td>523</td>\n",
       "      <td>A</td>\n",
       "      <td>T</td>\n",
       "      <td>seq1</td>\n",
       "      <td>seq1.1</td>\n",
       "      <td>seq1.1</td>\n",
       "      <td>+</td>\n",
       "      <td>synonymous</td>\n",
       "      <td>267</td>\n",
       "      <td>521</td>\n",
       "      <td>522</td>\n",
       "      <td>523</td>\n",
       "      <td>89</td>\n",
       "      <td>GTA</td>\n",
       "      <td>GTT</td>\n",
       "      <td>E</td>\n",
       "      <td>E</td>\n",
       "      <td>tTTTTTTTTTTTtTTtTTtTtTttT</td>\n",
       "    </tr>\n",
       "  </tbody>\n",
       "</table>\n",
       "</div>"
      ],
      "text/plain": [
       "  chr_id  snp_pos ref_allele alt_allele gene_id mrna_id prot_id strand  \\\n",
       "0   chr1      523          A          T    seq1  seq1.1  seq1.1      +   \n",
       "\n",
       "       effect  snp_cds_pos  codon1_genome_pos  codon2_genome_pos  \\\n",
       "0  synonymous          267                521                522   \n",
       "\n",
       "   codon3_genome_pos  snp_aa_pos ref_codon alt_codon ref_aa alt_aa  \\\n",
       "0                523          89       GTA       GTT      E      E   \n",
       "\n",
       "                      pileup  \n",
       "0  tTTTTTTTTTTTtTTtTTtTtTttT  "
      ]
     },
     "execution_count": 63,
     "metadata": {},
     "output_type": "execute_result"
    }
   ],
   "source": [
    "sub_mp = mp[['snp_pos','pileup']]\n",
    "pd.merge(cf, sub_mp, on='snp_pos')"
   ]
  },
  {
   "cell_type": "code",
   "execution_count": 64,
   "id": "bdd1fcc8",
   "metadata": {},
   "outputs": [],
   "source": [
    "#subset of cf\n",
    "sub_cf = cf[['chr_id','snp_pos','ref_allele','alt_allele','gene_id','mrna_id','prot_id','strand','effect','snp_cds_pos']]"
   ]
  },
  {
   "cell_type": "code",
   "execution_count": 67,
   "id": "439957de",
   "metadata": {},
   "outputs": [],
   "source": [
    "merged_var = pd.merge(sub_cf, sub_mp, on='snp_pos')"
   ]
  },
  {
   "cell_type": "code",
   "execution_count": 104,
   "id": "65e51475",
   "metadata": {},
   "outputs": [],
   "source": [
    "# Confirm Allele based on pileup \n",
    "# Calling this confirmed ALT\n",
    "# confirmed Strand\n",
    "\n",
    "n=0\n",
    "arr = split(merged_var['pileup'][n])"
   ]
  },
  {
   "cell_type": "code",
   "execution_count": 105,
   "id": "60e80a39",
   "metadata": {},
   "outputs": [
    {
     "data": {
      "text/plain": [
       "['t',\n",
       " 'T',\n",
       " 'T',\n",
       " 'T',\n",
       " 'T',\n",
       " 'T',\n",
       " 'T',\n",
       " 'T',\n",
       " 'T',\n",
       " 'T',\n",
       " 'T',\n",
       " 'T',\n",
       " 't',\n",
       " 'T',\n",
       " 'T',\n",
       " 't',\n",
       " 'T',\n",
       " 'T',\n",
       " 't',\n",
       " 'T',\n",
       " 't',\n",
       " 'T',\n",
       " 't',\n",
       " 't',\n",
       " 'T']"
      ]
     },
     "execution_count": 105,
     "metadata": {},
     "output_type": "execute_result"
    }
   ],
   "source": [
    "# Get majority \n",
    "snps = pd.Series(arr).drop_duplicates().tolist()"
   ]
  },
  {
   "cell_type": "code",
   "execution_count": 121,
   "id": "00603295",
   "metadata": {},
   "outputs": [],
   "source": [
    "count = dict.fromkeys(snps, 0)\n",
    "\n",
    "for key in snps:\n",
    "    count[key] = count.get(key, 0) + 1"
   ]
  },
  {
   "cell_type": "raw",
   "id": "40a27f9c",
   "metadata": {},
   "source": [
    "arr"
   ]
  },
  {
   "cell_type": "code",
   "execution_count": 124,
   "id": "31fd34d1",
   "metadata": {},
   "outputs": [
    {
     "data": {
      "text/plain": [
       "{'t': 1, 'T': 1}"
      ]
     },
     "execution_count": 124,
     "metadata": {},
     "output_type": "execute_result"
    }
   ],
   "source": []
  },
  {
   "cell_type": "code",
   "execution_count": 4,
   "id": "70e69393",
   "metadata": {},
   "outputs": [
    {
     "data": {
      "text/plain": [
       "0    .,...........,..,..,.,.,,^].\n",
       "1       ,...........,..,..,.,.,,.\n",
       "2       tTTTTTTTTTTTtTTtTTtTtTttT\n",
       "3     ,...........,..,..,.,.,,...\n",
       "Name: 4, dtype: object"
      ]
     },
     "execution_count": 4,
     "metadata": {},
     "output_type": "execute_result"
    }
   ],
   "source": [
    "# Connect both frames based on position\n",
    "# column 4 should be the pileup results\n",
    "\n",
    "nts = 'AGTCN'\n",
    "mp[4]"
   ]
  },
  {
   "cell_type": "code",
   "execution_count": 103,
   "id": "19900f18",
   "metadata": {},
   "outputs": [
    {
     "data": {
      "text/plain": [
       "['t',\n",
       " 'T',\n",
       " 'T',\n",
       " 'T',\n",
       " 'T',\n",
       " 'T',\n",
       " 'T',\n",
       " 'T',\n",
       " 'T',\n",
       " 'T',\n",
       " 'T',\n",
       " 'T',\n",
       " 't',\n",
       " 'T',\n",
       " 'T',\n",
       " 't',\n",
       " 'T',\n",
       " 'T',\n",
       " 't',\n",
       " 'T',\n",
       " 't',\n",
       " 'T',\n",
       " 't',\n",
       " 't',\n",
       " 'T']"
      ]
     },
     "execution_count": 103,
     "metadata": {},
     "output_type": "execute_result"
    }
   ],
   "source": [
    "def split(word):\n",
    "    return list(word)\n",
    "\n",
    "split(mp['pileup'][2])\n",
    "\n",
    "# apply "
   ]
  }
 ],
 "metadata": {
  "kernelspec": {
   "display_name": "Python 3 (ipykernel)",
   "language": "python",
   "name": "python3"
  },
  "language_info": {
   "codemirror_mode": {
    "name": "ipython",
    "version": 3
   },
   "file_extension": ".py",
   "mimetype": "text/x-python",
   "name": "python",
   "nbconvert_exporter": "python",
   "pygments_lexer": "ipython3",
   "version": "3.9.5"
  },
  "latex_envs": {
   "LaTeX_envs_menu_present": true,
   "autoclose": false,
   "autocomplete": true,
   "bibliofile": "biblio.bib",
   "cite_by": "apalike",
   "current_citInitial": 1,
   "eqLabelWithNumbers": true,
   "eqNumInitial": 1,
   "hotkeys": {
    "equation": "Ctrl-E",
    "itemize": "Ctrl-I"
   },
   "labels_anchors": false,
   "latex_user_defs": false,
   "report_style_numbering": false,
   "user_envs_cfg": false
  }
 },
 "nbformat": 4,
 "nbformat_minor": 5
}
