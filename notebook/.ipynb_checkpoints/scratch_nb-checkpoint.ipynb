{
 "cells": [
  {
   "cell_type": "markdown",
   "id": "1106b087",
   "metadata": {},
   "source": [
    "# VARify"
   ]
  },
  {
   "cell_type": "markdown",
   "id": "c87d4722",
   "metadata": {},
   "source": [
    "\n",
    "## Workflow\n",
    "\n",
    "\n",
    "<img src=\"wf.png\" width=\"600\">"
   ]
  },
  {
   "cell_type": "markdown",
   "id": "4b3680f4",
   "metadata": {},
   "source": [
    "## Exploring Data"
   ]
  },
  {
   "cell_type": "code",
   "execution_count": 39,
   "id": "70705ac3",
   "metadata": {},
   "outputs": [],
   "source": [
    "import pandas as pd\n",
    "\n",
    "# mpileup \n",
    "mp = pd.read_table('../data/test/mpiletest-out.txt', header=None)\n",
    "mp = mp.rename(columns={1:\"snp_pos\", 4:\"pileup\"})\n",
    "\n",
    "# custom out file\n",
    "cf = pd.read_table('../data/test/snp_out.txt')"
   ]
  },
  {
   "cell_type": "markdown",
   "id": "26ef5f9d",
   "metadata": {},
   "source": [
    "## Merging the two dataframes together"
   ]
  },
  {
   "cell_type": "code",
   "execution_count": 50,
   "id": "98f81b15",
   "metadata": {},
   "outputs": [
    {
     "data": {
      "text/html": [
       "<div>\n",
       "<style scoped>\n",
       "    .dataframe tbody tr th:only-of-type {\n",
       "        vertical-align: middle;\n",
       "    }\n",
       "\n",
       "    .dataframe tbody tr th {\n",
       "        vertical-align: top;\n",
       "    }\n",
       "\n",
       "    .dataframe thead th {\n",
       "        text-align: right;\n",
       "    }\n",
       "</style>\n",
       "<table border=\"1\" class=\"dataframe\">\n",
       "  <thead>\n",
       "    <tr style=\"text-align: right;\">\n",
       "      <th></th>\n",
       "      <th>chr_id</th>\n",
       "      <th>snp_pos</th>\n",
       "      <th>ref_allele</th>\n",
       "      <th>alt_allele</th>\n",
       "      <th>gene_id</th>\n",
       "      <th>mrna_id</th>\n",
       "      <th>prot_id</th>\n",
       "      <th>strand</th>\n",
       "      <th>effect</th>\n",
       "      <th>snp_cds_pos</th>\n",
       "      <th>codon1_genome_pos</th>\n",
       "      <th>codon2_genome_pos</th>\n",
       "      <th>codon3_genome_pos</th>\n",
       "      <th>snp_aa_pos</th>\n",
       "      <th>ref_codon</th>\n",
       "      <th>alt_codon</th>\n",
       "      <th>ref_aa</th>\n",
       "      <th>alt_aa</th>\n",
       "      <th>pileup</th>\n",
       "    </tr>\n",
       "  </thead>\n",
       "  <tbody>\n",
       "    <tr>\n",
       "      <th>0</th>\n",
       "      <td>chr1</td>\n",
       "      <td>523</td>\n",
       "      <td>A</td>\n",
       "      <td>T</td>\n",
       "      <td>seq1</td>\n",
       "      <td>seq1.1</td>\n",
       "      <td>seq1.1</td>\n",
       "      <td>+</td>\n",
       "      <td>synonymous</td>\n",
       "      <td>267</td>\n",
       "      <td>521</td>\n",
       "      <td>522</td>\n",
       "      <td>523</td>\n",
       "      <td>89</td>\n",
       "      <td>GTA</td>\n",
       "      <td>GTT</td>\n",
       "      <td>E</td>\n",
       "      <td>E</td>\n",
       "      <td>tTTTTTTTTCTTtTTtTCtTtTttC</td>\n",
       "    </tr>\n",
       "  </tbody>\n",
       "</table>\n",
       "</div>"
      ],
      "text/plain": [
       "  chr_id  snp_pos ref_allele alt_allele gene_id mrna_id prot_id strand  \\\n",
       "0   chr1      523          A          T    seq1  seq1.1  seq1.1      +   \n",
       "\n",
       "       effect  snp_cds_pos  codon1_genome_pos  codon2_genome_pos  \\\n",
       "0  synonymous          267                521                522   \n",
       "\n",
       "   codon3_genome_pos  snp_aa_pos ref_codon alt_codon ref_aa alt_aa  \\\n",
       "0                523          89       GTA       GTT      E      E   \n",
       "\n",
       "                      pileup  \n",
       "0  tTTTTTTTTCTTtTTtTCtTtTttC  "
      ]
     },
     "execution_count": 50,
     "metadata": {},
     "output_type": "execute_result"
    }
   ],
   "source": [
    "sub_mp = mp[['snp_pos','pileup']]\n",
    "pd.merge(cf, sub_mp, on='snp_pos')"
   ]
  },
  {
   "cell_type": "markdown",
   "id": "13186127",
   "metadata": {},
   "source": [
    "## Split Dataframe\n",
    "\n",
    "Splitting the snpeff table by codons, get genome position and alt/ref codon\n",
    "\n"
   ]
  },
  {
   "cell_type": "code",
   "execution_count": 41,
   "id": "e033e08e",
   "metadata": {},
   "outputs": [
    {
     "data": {
      "text/html": [
       "<div>\n",
       "<style scoped>\n",
       "    .dataframe tbody tr th:only-of-type {\n",
       "        vertical-align: middle;\n",
       "    }\n",
       "\n",
       "    .dataframe tbody tr th {\n",
       "        vertical-align: top;\n",
       "    }\n",
       "\n",
       "    .dataframe thead th {\n",
       "        text-align: right;\n",
       "    }\n",
       "</style>\n",
       "<table border=\"1\" class=\"dataframe\">\n",
       "  <thead>\n",
       "    <tr style=\"text-align: right;\">\n",
       "      <th></th>\n",
       "      <th>snp_cds_pos</th>\n",
       "      <th>codon1_genome_pos</th>\n",
       "      <th>codon2_genome_pos</th>\n",
       "      <th>codon3_genome_pos</th>\n",
       "      <th>ref_codon</th>\n",
       "      <th>alt_codon</th>\n",
       "    </tr>\n",
       "  </thead>\n",
       "  <tbody>\n",
       "    <tr>\n",
       "      <th>0</th>\n",
       "      <td>267</td>\n",
       "      <td>521</td>\n",
       "      <td>522</td>\n",
       "      <td>523</td>\n",
       "      <td>GTA</td>\n",
       "      <td>GTT</td>\n",
       "    </tr>\n",
       "  </tbody>\n",
       "</table>\n",
       "</div>"
      ],
      "text/plain": [
       "   snp_cds_pos  codon1_genome_pos  codon2_genome_pos  codon3_genome_pos  \\\n",
       "0          267                521                522                523   \n",
       "\n",
       "  ref_codon alt_codon  \n",
       "0       GTA       GTT  "
      ]
     },
     "execution_count": 41,
     "metadata": {},
     "output_type": "execute_result"
    }
   ],
   "source": [
    "columns = ['snp_cds_pos', 'codon1_genome_pos', 'codon2_genome_pos', 'codon3_genome_pos', 'ref_codon', 'alt_codon']\n",
    "cf[columns]"
   ]
  },
  {
   "cell_type": "code",
   "execution_count": 179,
   "id": "61874161",
   "metadata": {},
   "outputs": [],
   "source": [
    "l = str(merged_var['pileup'][0])\n",
    "# make upper\n",
    "l = l.upper() # just to make simple\n",
    "\n",
    "# Get list of unique\n",
    "a = [i for i in l]\n",
    "a_unique = list(set(a)) \n",
    "\n",
    "# # if >2 throw error\n",
    "# if len(a_unique) > 2: \n",
    "#     print(\"More than 2 SNPs are at location.\")\n",
    "# else:\n",
    "    \n",
    "# create a dictionary\n",
    "snp_dict = {}\n",
    "df = pd.DataFrame\n",
    "\n",
    "ref = [i for i in cf['ref_codon'][0]]\n"
   ]
  },
  {
   "cell_type": "code",
   "execution_count": 189,
   "id": "27fa1bb6",
   "metadata": {},
   "outputs": [],
   "source": [
    "ref = [i for i in cf['ref_codon'][0]]"
   ]
  },
  {
   "cell_type": "code",
   "execution_count": 193,
   "id": "a91df605",
   "metadata": {},
   "outputs": [
    {
     "name": "stdout",
     "output_type": "stream",
     "text": [
      "['G', 'T', 'A']\n",
      "0 G\n",
      "['T', 'T', 'A']\n",
      "['T', 'T', 'A']\n",
      "1 T\n",
      "['T', 'T', 'A']\n",
      "['T', 'T', 'A']\n",
      "2 A\n",
      "['T', 'T', 'T']\n",
      "['T', 'T', 'T']\n",
      "0 T\n",
      "['C', 'T', 'T']\n",
      "['C', 'T', 'T']\n",
      "1 T\n",
      "['C', 'C', 'T']\n",
      "['C', 'C', 'T']\n",
      "2 T\n",
      "['C', 'C', 'C']\n",
      "{'var_T_codon1': ['C', 'C', 'C'], 'var_T_codon2': ['C', 'C', 'C'], 'var_T_codon3': ['C', 'C', 'C'], 'var_C_codon1': ['C', 'C', 'C'], 'var_C_codon2': ['C', 'C', 'C'], 'var_C_codon3': ['C', 'C', 'C']}\n"
     ]
    }
   ],
   "source": [
    "for snp in a_unique:\n",
    "    for i in range(len(r)):\n",
    "        print(ref)\n",
    "        print(i, r[i])\n",
    "        \n",
    "        r[i] = snp\n",
    "        print(r)\n",
    "        snp_dict[f\"var_{snp}_codon{i+1}\"] = r\n",
    "        r = ref\n",
    "\n",
    "\n",
    "        \n",
    "print(snp_dict)"
   ]
  },
  {
   "cell_type": "code",
   "execution_count": 136,
   "id": "23fd729c",
   "metadata": {},
   "outputs": [
    {
     "data": {
      "text/plain": [
       "'C'"
      ]
     },
     "execution_count": 136,
     "metadata": {},
     "output_type": "execute_result"
    }
   ],
   "source": [
    "import pandas as pd\n",
    "\n",
    "def combine(x):\n",
    "    return print(*x, sep='')\n",
    "\n",
    "# combine(snp_dict['snp1'])\n",
    "\n",
    "df = pd.DataFrame()\n",
    "\n",
    "df['varify_alt_allele'] = snp\n",
    "\n"
   ]
  },
  {
   "cell_type": "markdown",
   "id": "78742d03",
   "metadata": {},
   "source": [
    "## Building class object\n",
    "\n",
    "### To Do\n",
    "* [x] output comparison\n",
    "* [ ] Type Effect\n",
    "* [ ] Make into Function\n",
    "* [ ] Build larger test data\n",
    "* [ ] Nextflow with Assembly/Sam to mpileup\n",
    "\n",
    "\n",
    "### Notes\n",
    "**Test Data:**\n",
    "* Take processed mRNA transcript (FASTA) —> VCF w/ 2-3 SNPS\n",
    "\n",
    "**Process:** \n",
    "* RNA FASTA -align to genome using gmap->SAM/BAM—>BAM -variantcalling-> VCF —> Capture Variants\n",
    "* DNA FASTA -align to genome using gmap->SAM/BAM—>BAM -variantcalling-> VCF —> Capture Variants |—> Compare RV and GV"
   ]
  },
  {
   "cell_type": "code",
   "execution_count": 11,
   "id": "e34c8c5d",
   "metadata": {},
   "outputs": [],
   "source": [
    "top_snp = majorSNP(merged_var)\n",
    "top_strand = strand(top_snp)"
   ]
  },
  {
   "cell_type": "code",
   "execution_count": 18,
   "id": "68303b98",
   "metadata": {},
   "outputs": [
    {
     "data": {
      "text/html": [
       "<div>\n",
       "<style scoped>\n",
       "    .dataframe tbody tr th:only-of-type {\n",
       "        vertical-align: middle;\n",
       "    }\n",
       "\n",
       "    .dataframe tbody tr th {\n",
       "        vertical-align: top;\n",
       "    }\n",
       "\n",
       "    .dataframe thead th {\n",
       "        text-align: right;\n",
       "    }\n",
       "</style>\n",
       "<table border=\"1\" class=\"dataframe\">\n",
       "  <thead>\n",
       "    <tr style=\"text-align: right;\">\n",
       "      <th></th>\n",
       "      <th>chr_id</th>\n",
       "      <th>snp_pos</th>\n",
       "      <th>ref_allele</th>\n",
       "      <th>alt_allele</th>\n",
       "      <th>gene_id</th>\n",
       "      <th>strand</th>\n",
       "      <th>effect</th>\n",
       "      <th>confirmed_snp</th>\n",
       "      <th>confirmed_strand</th>\n",
       "    </tr>\n",
       "  </thead>\n",
       "  <tbody>\n",
       "    <tr>\n",
       "      <th>0</th>\n",
       "      <td>chr1</td>\n",
       "      <td>523</td>\n",
       "      <td>A</td>\n",
       "      <td>T</td>\n",
       "      <td>seq1</td>\n",
       "      <td>+</td>\n",
       "      <td>synonymous</td>\n",
       "      <td>T</td>\n",
       "      <td>+</td>\n",
       "    </tr>\n",
       "  </tbody>\n",
       "</table>\n",
       "</div>"
      ],
      "text/plain": [
       "  chr_id  snp_pos ref_allele alt_allele gene_id strand      effect  \\\n",
       "0   chr1      523          A          T    seq1      +  synonymous   \n",
       "\n",
       "  confirmed_snp confirmed_strand  \n",
       "0             T                +  "
      ]
     },
     "execution_count": 18,
     "metadata": {},
     "output_type": "execute_result"
    }
   ],
   "source": [
    "snp_dict = {'confirmed_snp' : top_snp, 'confirmed_strand' : strand}\n",
    "merged_var['confirmed_snp'] = top_snp\n",
    "merged_var['confirmed_strand'] = top_strand\n",
    "\n",
    "# proposed final output\n",
    "merged_var.drop(columns='pileup')"
   ]
  },
  {
   "cell_type": "code",
   "execution_count": null,
   "id": "964a9242",
   "metadata": {},
   "outputs": [],
   "source": [
    "# majority snp\n",
    "# class VARify():\n",
    "def split(word):\n",
    "    return list(word)\n",
    "\n",
    "def majorSNP(merged_var):\n",
    "    n=0\n",
    "    arr = split(merged_var['pileup'][n])\n",
    "    \n",
    "    snps = pd.Series(arr).drop_duplicates().tolist()\n",
    "    \n",
    "    count = dict.fromkeys(snps, 0)\n",
    "\n",
    "    for snp_key in snps:\n",
    "        for arr_key in arr: \n",
    "            if snp_key == arr_key: \n",
    "                count[snp_key] = count.get(snp_key, 0) + 1\n",
    "                \n",
    "    top_snp = sorted(count)[0]\n",
    "    return top_snp\n",
    "\n",
    "# strand\n",
    "def strand(x):\n",
    "    pos = ['A','C','T','G', 'N']\n",
    "    rev = ['a','c','t','g', 'n']\n",
    "    if x in pos:\n",
    "        return '+'\n",
    "    if x in rev:\n",
    "        return '-'\n",
    "    \n",
    "# grab all snps\n",
    "def uniqueSNP():\n",
    "    # get the list of SNPs\n",
    "    \n",
    "    # split into unique\n",
    "    \n",
    "    \n",
    "    "
   ]
  }
 ],
 "metadata": {
  "kernelspec": {
   "display_name": "Python 3 (ipykernel)",
   "language": "python",
   "name": "python3"
  },
  "language_info": {
   "codemirror_mode": {
    "name": "ipython",
    "version": 3
   },
   "file_extension": ".py",
   "mimetype": "text/x-python",
   "name": "python",
   "nbconvert_exporter": "python",
   "pygments_lexer": "ipython3",
   "version": "3.9.16"
  },
  "latex_envs": {
   "LaTeX_envs_menu_present": true,
   "autoclose": false,
   "autocomplete": true,
   "bibliofile": "biblio.bib",
   "cite_by": "apalike",
   "current_citInitial": 1,
   "eqLabelWithNumbers": true,
   "eqNumInitial": 1,
   "hotkeys": {
    "equation": "Ctrl-E",
    "itemize": "Ctrl-I"
   },
   "labels_anchors": false,
   "latex_user_defs": false,
   "report_style_numbering": false,
   "user_envs_cfg": false
  }
 },
 "nbformat": 4,
 "nbformat_minor": 5
}
